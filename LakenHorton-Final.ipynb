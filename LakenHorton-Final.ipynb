{
 "cells": [
  {
   "cell_type": "markdown",
   "metadata": {},
   "source": [
    "# MC316 Final Exam – Part B: PYTHON"
   ]
  },
  {
   "cell_type": "markdown",
   "metadata": {},
   "source": [
    "* You will have 1 hour and 40 minutes to finish the test.\n",
    "* This part includes 10 questions. Each question is worth 15 points.\n",
    "* You get extra 30 points for full answers.\n",
    "* Please read the instructions carefully. "
   ]
  },
  {
   "cell_type": "markdown",
   "metadata": {},
   "source": [
    "## I. SET UP\n"
   ]
  },
  {
   "cell_type": "markdown",
   "metadata": {},
   "source": [
    "### Import pandas library for use in scripting. "
   ]
  },
  {
   "cell_type": "code",
   "execution_count": 66,
   "metadata": {},
   "outputs": [],
   "source": [
    "import pandas as pd"
   ]
  },
  {
   "cell_type": "markdown",
   "metadata": {},
   "source": [
    "### Import the datasets and name them.\n",
    "For this test, you will analyze revenue and expenditure data released by Kansas Department of Administration for the fiscal year 2018. While the original data can be directly downloaded [here](http://kanview.ks.gov/DataDownload.aspx), for your convenience, the instructor had them uploaded to a server at the following urls. \n",
    "\n",
    "#### For Kansas State University:\n",
    "1. Expenditure data: https://datajournalism.tech/wp-content/uploads/2019/05/ExpData_367_2018.csv\n",
    "2. Revenue data: https://datajournalism.tech/wp-content/uploads/2019/05/RevData_367_2018.csv\n",
    "\n",
    "#### For University of Kansas:\n",
    "3. Expenditure data: https://datajournalism.tech/wp-content/uploads/2019/05/ExpData_682_2018.csv\n",
    "4. Revenue data: https://datajournalism.tech/wp-content/uploads/2019/05/RevData_682_2018.csv\n",
    "\n",
    "You will need to import all 4 datasets and name them in an easy way to call out later.\n",
    "\n",
    "*Please refer to the [Glossary](http://kanview.ks.gov/Glossary.aspx#f) for data description."
   ]
  },
  {
   "cell_type": "code",
   "execution_count": 67,
   "metadata": {},
   "outputs": [],
   "source": [
    "KSUexp = pd.read_csv(\"https://datajournalism.tech/wp-content/uploads/2019/05/ExpData_367_2018.csv\")"
   ]
  },
  {
   "cell_type": "code",
   "execution_count": 68,
   "metadata": {},
   "outputs": [
    {
     "data": {
      "text/html": [
       "<div>\n",
       "<style scoped>\n",
       "    .dataframe tbody tr th:only-of-type {\n",
       "        vertical-align: middle;\n",
       "    }\n",
       "\n",
       "    .dataframe tbody tr th {\n",
       "        vertical-align: top;\n",
       "    }\n",
       "\n",
       "    .dataframe thead th {\n",
       "        text-align: right;\n",
       "    }\n",
       "</style>\n",
       "<table border=\"1\" class=\"dataframe\">\n",
       "  <thead>\n",
       "    <tr style=\"text-align: right;\">\n",
       "      <th></th>\n",
       "      <th>Fiscal_Year</th>\n",
       "      <th>Fiscal_Quarter</th>\n",
       "      <th>Business_Unit</th>\n",
       "      <th>Business_Unit_Descr</th>\n",
       "      <th>GAAP_Fund_Type</th>\n",
       "      <th>GAAP_Fund_Type_Descr</th>\n",
       "      <th>Fund_Code</th>\n",
       "      <th>Fund_Code_Descr</th>\n",
       "      <th>Budget_Ref</th>\n",
       "      <th>Budget_Ref_Descr</th>\n",
       "      <th>...</th>\n",
       "      <th>State_Function</th>\n",
       "      <th>State_Function_Descr</th>\n",
       "      <th>Primary_Account_Code</th>\n",
       "      <th>Primary_Account_Code_Descr</th>\n",
       "      <th>Intermediate_Account_Code</th>\n",
       "      <th>Intermediate_Account_Code_Descr</th>\n",
       "      <th>Detail_Account_Code</th>\n",
       "      <th>Detail_Account_Code_Descr</th>\n",
       "      <th>Total</th>\n",
       "      <th>Unnamed: 21</th>\n",
       "    </tr>\n",
       "  </thead>\n",
       "  <tbody>\n",
       "    <tr>\n",
       "      <th>0</th>\n",
       "      <td>2018</td>\n",
       "      <td>1</td>\n",
       "      <td>367</td>\n",
       "      <td>Kansas State University</td>\n",
       "      <td>12</td>\n",
       "      <td>Component Unit</td>\n",
       "      <td>3047</td>\n",
       "      <td>SMITH-LEVER SPEC PRG GRNT FDF</td>\n",
       "      <td>1330</td>\n",
       "      <td>SMITH-LEVER SPEC PRG GRNT FDF                 ...</td>\n",
       "      <td>...</td>\n",
       "      <td>26</td>\n",
       "      <td>Universities                                  ...</td>\n",
       "      <td>5200</td>\n",
       "      <td>CONTRACTUAL SERVICES</td>\n",
       "      <td>52520</td>\n",
       "      <td>OUT OF STATE TRAVEL &amp; SUBSIST</td>\n",
       "      <td>525280</td>\n",
       "      <td>MEALS AND LODGING OUT STATE</td>\n",
       "      <td>2470.890</td>\n",
       "      <td>nan</td>\n",
       "    </tr>\n",
       "    <tr>\n",
       "      <th>1</th>\n",
       "      <td>2018</td>\n",
       "      <td>1</td>\n",
       "      <td>367</td>\n",
       "      <td>Kansas State University</td>\n",
       "      <td>12</td>\n",
       "      <td>Component Unit</td>\n",
       "      <td>3047</td>\n",
       "      <td>SMITH-LEVER SPEC PRG GRNT FDF</td>\n",
       "      <td>1330</td>\n",
       "      <td>SMITH-LEVER SPEC PRG GRNT FDF                 ...</td>\n",
       "      <td>...</td>\n",
       "      <td>26</td>\n",
       "      <td>Universities                                  ...</td>\n",
       "      <td>5200</td>\n",
       "      <td>CONTRACTUAL SERVICES</td>\n",
       "      <td>52520</td>\n",
       "      <td>OUT OF STATE TRAVEL &amp; SUBSIST</td>\n",
       "      <td>525270</td>\n",
       "      <td>AIR RAIL &amp; BUS FARE OUT STATE</td>\n",
       "      <td>422.400</td>\n",
       "      <td>nan</td>\n",
       "    </tr>\n",
       "    <tr>\n",
       "      <th>2</th>\n",
       "      <td>2018</td>\n",
       "      <td>1</td>\n",
       "      <td>367</td>\n",
       "      <td>Kansas State University</td>\n",
       "      <td>12</td>\n",
       "      <td>Component Unit</td>\n",
       "      <td>3047</td>\n",
       "      <td>SMITH-LEVER SPEC PRG GRNT FDF</td>\n",
       "      <td>1330</td>\n",
       "      <td>SMITH-LEVER SPEC PRG GRNT FDF                 ...</td>\n",
       "      <td>...</td>\n",
       "      <td>26</td>\n",
       "      <td>Universities                                  ...</td>\n",
       "      <td>5200</td>\n",
       "      <td>CONTRACTUAL SERVICES</td>\n",
       "      <td>52510</td>\n",
       "      <td>IN STATE TRAVEL &amp; SUBSISTENCE</td>\n",
       "      <td>525190</td>\n",
       "      <td>NON SUBSISTENCE IN STATE</td>\n",
       "      <td>17.250</td>\n",
       "      <td>nan</td>\n",
       "    </tr>\n",
       "    <tr>\n",
       "      <th>3</th>\n",
       "      <td>2018</td>\n",
       "      <td>1</td>\n",
       "      <td>367</td>\n",
       "      <td>Kansas State University</td>\n",
       "      <td>12</td>\n",
       "      <td>Component Unit</td>\n",
       "      <td>3047</td>\n",
       "      <td>SMITH-LEVER SPEC PRG GRNT FDF</td>\n",
       "      <td>1330</td>\n",
       "      <td>SMITH-LEVER SPEC PRG GRNT FDF                 ...</td>\n",
       "      <td>...</td>\n",
       "      <td>26</td>\n",
       "      <td>Universities                                  ...</td>\n",
       "      <td>5200</td>\n",
       "      <td>CONTRACTUAL SERVICES</td>\n",
       "      <td>52510</td>\n",
       "      <td>IN STATE TRAVEL &amp; SUBSISTENCE</td>\n",
       "      <td>525180</td>\n",
       "      <td>MEALS AND LODGING IN STATE</td>\n",
       "      <td>698.130</td>\n",
       "      <td>nan</td>\n",
       "    </tr>\n",
       "    <tr>\n",
       "      <th>4</th>\n",
       "      <td>2018</td>\n",
       "      <td>1</td>\n",
       "      <td>367</td>\n",
       "      <td>Kansas State University</td>\n",
       "      <td>12</td>\n",
       "      <td>Component Unit</td>\n",
       "      <td>3047</td>\n",
       "      <td>SMITH-LEVER SPEC PRG GRNT FDF</td>\n",
       "      <td>1330</td>\n",
       "      <td>SMITH-LEVER SPEC PRG GRNT FDF                 ...</td>\n",
       "      <td>...</td>\n",
       "      <td>26</td>\n",
       "      <td>Universities                                  ...</td>\n",
       "      <td>5200</td>\n",
       "      <td>CONTRACTUAL SERVICES</td>\n",
       "      <td>52510</td>\n",
       "      <td>IN STATE TRAVEL &amp; SUBSISTENCE</td>\n",
       "      <td>525130</td>\n",
       "      <td>STATE CAR EXPENSE-IN STATE</td>\n",
       "      <td>407.500</td>\n",
       "      <td>nan</td>\n",
       "    </tr>\n",
       "  </tbody>\n",
       "</table>\n",
       "<p>5 rows × 22 columns</p>\n",
       "</div>"
      ],
      "text/plain": [
       "   Fiscal_Year  Fiscal_Quarter  Business_Unit             Business_Unit_Descr  \\\n",
       "0         2018               1            367  Kansas State University          \n",
       "1         2018               1            367  Kansas State University          \n",
       "2         2018               1            367  Kansas State University          \n",
       "3         2018               1            367  Kansas State University          \n",
       "4         2018               1            367  Kansas State University          \n",
       "\n",
       "   GAAP_Fund_Type            GAAP_Fund_Type_Descr  Fund_Code  \\\n",
       "0              12  Component Unit                       3047   \n",
       "1              12  Component Unit                       3047   \n",
       "2              12  Component Unit                       3047   \n",
       "3              12  Component Unit                       3047   \n",
       "4              12  Component Unit                       3047   \n",
       "\n",
       "                  Fund_Code_Descr  Budget_Ref  \\\n",
       "0  SMITH-LEVER SPEC PRG GRNT FDF         1330   \n",
       "1  SMITH-LEVER SPEC PRG GRNT FDF         1330   \n",
       "2  SMITH-LEVER SPEC PRG GRNT FDF         1330   \n",
       "3  SMITH-LEVER SPEC PRG GRNT FDF         1330   \n",
       "4  SMITH-LEVER SPEC PRG GRNT FDF         1330   \n",
       "\n",
       "                                    Budget_Ref_Descr  ...  State_Function  \\\n",
       "0  SMITH-LEVER SPEC PRG GRNT FDF                 ...  ...              26   \n",
       "1  SMITH-LEVER SPEC PRG GRNT FDF                 ...  ...              26   \n",
       "2  SMITH-LEVER SPEC PRG GRNT FDF                 ...  ...              26   \n",
       "3  SMITH-LEVER SPEC PRG GRNT FDF                 ...  ...              26   \n",
       "4  SMITH-LEVER SPEC PRG GRNT FDF                 ...  ...              26   \n",
       "\n",
       "                                State_Function_Descr  Primary_Account_Code  \\\n",
       "0  Universities                                  ...                  5200   \n",
       "1  Universities                                  ...                  5200   \n",
       "2  Universities                                  ...                  5200   \n",
       "3  Universities                                  ...                  5200   \n",
       "4  Universities                                  ...                  5200   \n",
       "\n",
       "       Primary_Account_Code_Descr  Intermediate_Account_Code  \\\n",
       "0  CONTRACTUAL SERVICES                                52520   \n",
       "1  CONTRACTUAL SERVICES                                52520   \n",
       "2  CONTRACTUAL SERVICES                                52510   \n",
       "3  CONTRACTUAL SERVICES                                52510   \n",
       "4  CONTRACTUAL SERVICES                                52510   \n",
       "\n",
       "  Intermediate_Account_Code_Descr  Detail_Account_Code  \\\n",
       "0  OUT OF STATE TRAVEL & SUBSIST                525280   \n",
       "1  OUT OF STATE TRAVEL & SUBSIST                525270   \n",
       "2  IN STATE TRAVEL & SUBSISTENCE                525190   \n",
       "3  IN STATE TRAVEL & SUBSISTENCE                525180   \n",
       "4  IN STATE TRAVEL & SUBSISTENCE                525130   \n",
       "\n",
       "        Detail_Account_Code_Descr    Total Unnamed: 21  \n",
       "0  MEALS AND LODGING OUT STATE    2470.890         nan  \n",
       "1  AIR RAIL & BUS FARE OUT STATE   422.400         nan  \n",
       "2  NON SUBSISTENCE IN STATE         17.250         nan  \n",
       "3  MEALS AND LODGING IN STATE      698.130         nan  \n",
       "4  STATE CAR EXPENSE-IN STATE      407.500         nan  \n",
       "\n",
       "[5 rows x 22 columns]"
      ]
     },
     "execution_count": 68,
     "metadata": {},
     "output_type": "execute_result"
    }
   ],
   "source": [
    "KSUexp.head()"
   ]
  },
  {
   "cell_type": "code",
   "execution_count": 69,
   "metadata": {},
   "outputs": [
    {
     "name": "stdout",
     "output_type": "stream",
     "text": [
      "<class 'pandas.core.frame.DataFrame'>\n",
      "RangeIndex: 24094 entries, 0 to 24093\n",
      "Data columns (total 22 columns):\n",
      "Fiscal_Year                        24094 non-null int64\n",
      "Fiscal_Quarter                     24094 non-null int64\n",
      "Business_Unit                      24094 non-null int64\n",
      "Business_Unit_Descr                24094 non-null object\n",
      "GAAP_Fund_Type                     24094 non-null int64\n",
      "GAAP_Fund_Type_Descr               24094 non-null object\n",
      "Fund_Code                          24094 non-null int64\n",
      "Fund_Code_Descr                    24094 non-null object\n",
      "Budget_Ref                         24094 non-null int64\n",
      "Budget_Ref_Descr                   24094 non-null object\n",
      "Program_Code                       24094 non-null int64\n",
      "Program_Code_Descr                 24094 non-null object\n",
      "State_Function                     24094 non-null int64\n",
      "State_Function_Descr               24094 non-null object\n",
      "Primary_Account_Code               24094 non-null int64\n",
      "Primary_Account_Code_Descr         24094 non-null object\n",
      "Intermediate_Account_Code          24094 non-null int64\n",
      "Intermediate_Account_Code_Descr    24094 non-null object\n",
      "Detail_Account_Code                24094 non-null int64\n",
      "Detail_Account_Code_Descr          24094 non-null object\n",
      "Total                              24094 non-null float64\n",
      "Unnamed: 21                        0 non-null float64\n",
      "dtypes: float64(2), int64(11), object(9)\n",
      "memory usage: 4.0+ MB\n"
     ]
    }
   ],
   "source": [
    "KSUexp.info()"
   ]
  },
  {
   "cell_type": "code",
   "execution_count": 70,
   "metadata": {},
   "outputs": [],
   "source": [
    "KSUrev = pd.read_csv(\"https://datajournalism.tech/wp-content/uploads/2019/05/RevData_367_2018.csv\")"
   ]
  },
  {
   "cell_type": "code",
   "execution_count": 71,
   "metadata": {},
   "outputs": [],
   "source": [
    "KUexp = pd.read_csv(\"https://datajournalism.tech/wp-content/uploads/2019/05/ExpData_682_2018.csv\")"
   ]
  },
  {
   "cell_type": "code",
   "execution_count": 72,
   "metadata": {},
   "outputs": [],
   "source": [
    "KUrev = pd.read_csv(\"https://datajournalism.tech/wp-content/uploads/2019/05/RevData_682_2018.csv\")"
   ]
  },
  {
   "cell_type": "markdown",
   "metadata": {},
   "source": [
    "## II. REQUIRED QUESTIONS\n",
    "* Make sure you type the answers in the cells right below the codes.\n",
    "* If you need to add extra cells, click the + button in the toolbar up the top. "
   ]
  },
  {
   "cell_type": "markdown",
   "metadata": {},
   "source": [
    "### Q1: What is the total revenue recorded for Kansas State University in the fiscal year of 2018? How does it compare to the total revenue recorded for University of Kansas in the same year?"
   ]
  },
  {
   "cell_type": "code",
   "execution_count": 73,
   "metadata": {},
   "outputs": [
    {
     "data": {
      "text/plain": [
       "854324643.84"
      ]
     },
     "execution_count": 73,
     "metadata": {},
     "output_type": "execute_result"
    }
   ],
   "source": [
    "KSUrev.Total.sum()"
   ]
  },
  {
   "cell_type": "code",
   "execution_count": 74,
   "metadata": {},
   "outputs": [
    {
     "data": {
      "text/plain": [
       "808767902.55"
      ]
     },
     "execution_count": 74,
     "metadata": {},
     "output_type": "execute_result"
    }
   ],
   "source": [
    "KUrev.Total.sum()"
   ]
  },
  {
   "cell_type": "markdown",
   "metadata": {},
   "source": [
    "<b>Answer:</b> 45,556,741.29 Is the difference in revenue."
   ]
  },
  {
   "cell_type": "markdown",
   "metadata": {},
   "source": [
    "### Q2: What is the total expense recorded for Kansas State University in the fiscal year of 2018? How does it compare to the total expense recorded for University of Kansas in the same year?"
   ]
  },
  {
   "cell_type": "code",
   "execution_count": 75,
   "metadata": {},
   "outputs": [
    {
     "data": {
      "text/plain": [
       "1018584373.02"
      ]
     },
     "execution_count": 75,
     "metadata": {},
     "output_type": "execute_result"
    }
   ],
   "source": [
    "KSUexp.Total.sum()"
   ]
  },
  {
   "cell_type": "code",
   "execution_count": 76,
   "metadata": {},
   "outputs": [
    {
     "data": {
      "text/plain": [
       "990238875.6099999"
      ]
     },
     "execution_count": 76,
     "metadata": {},
     "output_type": "execute_result"
    }
   ],
   "source": [
    "KUexp.Total.sum()"
   ]
  },
  {
   "cell_type": "markdown",
   "metadata": {},
   "source": [
    "<b>Answer:</b> 283,455,497.41 Is the difference in expense."
   ]
  },
  {
   "cell_type": "markdown",
   "metadata": {},
   "source": [
    "### Q3: Where did the two universities' primary revenues come from? \n",
    "*Refer to the description [here](http://kanview.ks.gov/Revenues/AcctCodeRevenues.aspx) to write your answer."
   ]
  },
  {
   "cell_type": "code",
   "execution_count": 77,
   "metadata": {},
   "outputs": [
    {
     "data": {
      "text/plain": [
       "AGENCY EARNINGS                   637\n",
       "REV FROM USE OF MONEY & PROP      354\n",
       "REVENUE TRANSFERS                 341\n",
       "NON REVENUE RECEIPTS              259\n",
       "OTHER REVENUE                     160\n",
       "GIFT DONATION FEDERAL GRANTS      152\n",
       "TAXES                               7\n",
       "Name: Primary_Account_Code_Descr, dtype: int64"
      ]
     },
     "execution_count": 77,
     "metadata": {},
     "output_type": "execute_result"
    }
   ],
   "source": [
    "KSUrev.Primary_Account_Code_Descr.value_counts()"
   ]
  },
  {
   "cell_type": "code",
   "execution_count": 78,
   "metadata": {},
   "outputs": [
    {
     "data": {
      "text/plain": [
       "AGENCY EARNINGS                   376\n",
       "REV FROM USE OF MONEY & PROP      251\n",
       "NON REVENUE RECEIPTS              157\n",
       "REVENUE TRANSFERS                 153\n",
       "OTHER REVENUE                      57\n",
       "TAXES                              45\n",
       "GIFT DONATION FEDERAL GRANTS       38\n",
       "Name: Primary_Account_Code_Descr, dtype: int64"
      ]
     },
     "execution_count": 78,
     "metadata": {},
     "output_type": "execute_result"
    }
   ],
   "source": [
    "KUrev.Primary_Account_Code_Descr.value_counts()"
   ]
  },
  {
   "cell_type": "markdown",
   "metadata": {},
   "source": [
    "<b>Answer:</b> Primary source of revenue for both universities is the Agency Earnings."
   ]
  },
  {
   "cell_type": "markdown",
   "metadata": {},
   "source": [
    "### Q4: What was the biggest source of revenues for Kansas State University? Compare to the one of University of Kansas."
   ]
  },
  {
   "cell_type": "markdown",
   "metadata": {},
   "source": [
    "Remove hashtag and run the following code to suppress scientific notation:"
   ]
  },
  {
   "cell_type": "code",
   "execution_count": 79,
   "metadata": {},
   "outputs": [],
   "source": [
    "pd.set_option('display.float_format', lambda x: '%.3f' % x)"
   ]
  },
  {
   "cell_type": "code",
   "execution_count": 80,
   "metadata": {},
   "outputs": [
    {
     "data": {
      "text/html": [
       "<div>\n",
       "<style scoped>\n",
       "    .dataframe tbody tr th:only-of-type {\n",
       "        vertical-align: middle;\n",
       "    }\n",
       "\n",
       "    .dataframe tbody tr th {\n",
       "        vertical-align: top;\n",
       "    }\n",
       "\n",
       "    .dataframe thead th {\n",
       "        text-align: right;\n",
       "    }\n",
       "</style>\n",
       "<table border=\"1\" class=\"dataframe\">\n",
       "  <thead>\n",
       "    <tr style=\"text-align: right;\">\n",
       "      <th></th>\n",
       "      <th>Primary_Account_Code_Descr</th>\n",
       "      <th>Total</th>\n",
       "    </tr>\n",
       "  </thead>\n",
       "  <tbody>\n",
       "    <tr>\n",
       "      <th>0</th>\n",
       "      <td>AGENCY EARNINGS</td>\n",
       "      <td>412565112.820</td>\n",
       "    </tr>\n",
       "    <tr>\n",
       "      <th>1</th>\n",
       "      <td>GIFT DONATION FEDERAL GRANTS</td>\n",
       "      <td>278778848.030</td>\n",
       "    </tr>\n",
       "    <tr>\n",
       "      <th>2</th>\n",
       "      <td>NON REVENUE RECEIPTS</td>\n",
       "      <td>71947564.050</td>\n",
       "    </tr>\n",
       "    <tr>\n",
       "      <th>3</th>\n",
       "      <td>OTHER REVENUE</td>\n",
       "      <td>8432030.160</td>\n",
       "    </tr>\n",
       "    <tr>\n",
       "      <th>4</th>\n",
       "      <td>REV FROM USE OF MONEY &amp; PROP</td>\n",
       "      <td>34139318.040</td>\n",
       "    </tr>\n",
       "    <tr>\n",
       "      <th>5</th>\n",
       "      <td>REVENUE TRANSFERS</td>\n",
       "      <td>48458616.490</td>\n",
       "    </tr>\n",
       "    <tr>\n",
       "      <th>6</th>\n",
       "      <td>TAXES</td>\n",
       "      <td>3154.250</td>\n",
       "    </tr>\n",
       "  </tbody>\n",
       "</table>\n",
       "</div>"
      ],
      "text/plain": [
       "       Primary_Account_Code_Descr         Total\n",
       "0  AGENCY EARNINGS                412565112.820\n",
       "1  GIFT DONATION FEDERAL GRANTS   278778848.030\n",
       "2  NON REVENUE RECEIPTS            71947564.050\n",
       "3  OTHER REVENUE                    8432030.160\n",
       "4  REV FROM USE OF MONEY & PROP    34139318.040\n",
       "5  REVENUE TRANSFERS               48458616.490\n",
       "6  TAXES                               3154.250"
      ]
     },
     "execution_count": 80,
     "metadata": {},
     "output_type": "execute_result"
    }
   ],
   "source": [
    "KSUrev.groupby(\"Primary_Account_Code_Descr\").Total.sum().reset_index()"
   ]
  },
  {
   "cell_type": "code",
   "execution_count": 81,
   "metadata": {},
   "outputs": [
    {
     "data": {
      "text/html": [
       "<div>\n",
       "<style scoped>\n",
       "    .dataframe tbody tr th:only-of-type {\n",
       "        vertical-align: middle;\n",
       "    }\n",
       "\n",
       "    .dataframe tbody tr th {\n",
       "        vertical-align: top;\n",
       "    }\n",
       "\n",
       "    .dataframe thead th {\n",
       "        text-align: right;\n",
       "    }\n",
       "</style>\n",
       "<table border=\"1\" class=\"dataframe\">\n",
       "  <thead>\n",
       "    <tr style=\"text-align: right;\">\n",
       "      <th></th>\n",
       "      <th>Primary_Account_Code_Descr</th>\n",
       "      <th>Total</th>\n",
       "    </tr>\n",
       "  </thead>\n",
       "  <tbody>\n",
       "    <tr>\n",
       "      <th>0</th>\n",
       "      <td>AGENCY EARNINGS</td>\n",
       "      <td>408409337.320</td>\n",
       "    </tr>\n",
       "    <tr>\n",
       "      <th>1</th>\n",
       "      <td>GIFT DONATION FEDERAL GRANTS</td>\n",
       "      <td>193836668.320</td>\n",
       "    </tr>\n",
       "    <tr>\n",
       "      <th>2</th>\n",
       "      <td>NON REVENUE RECEIPTS</td>\n",
       "      <td>69753247.670</td>\n",
       "    </tr>\n",
       "    <tr>\n",
       "      <th>3</th>\n",
       "      <td>OTHER REVENUE</td>\n",
       "      <td>68241930.500</td>\n",
       "    </tr>\n",
       "    <tr>\n",
       "      <th>4</th>\n",
       "      <td>REV FROM USE OF MONEY &amp; PROP</td>\n",
       "      <td>40950779.540</td>\n",
       "    </tr>\n",
       "    <tr>\n",
       "      <th>5</th>\n",
       "      <td>REVENUE TRANSFERS</td>\n",
       "      <td>26013855.400</td>\n",
       "    </tr>\n",
       "    <tr>\n",
       "      <th>6</th>\n",
       "      <td>TAXES</td>\n",
       "      <td>1562083.800</td>\n",
       "    </tr>\n",
       "  </tbody>\n",
       "</table>\n",
       "</div>"
      ],
      "text/plain": [
       "       Primary_Account_Code_Descr         Total\n",
       "0  AGENCY EARNINGS                408409337.320\n",
       "1  GIFT DONATION FEDERAL GRANTS   193836668.320\n",
       "2  NON REVENUE RECEIPTS            69753247.670\n",
       "3  OTHER REVENUE                   68241930.500\n",
       "4  REV FROM USE OF MONEY & PROP    40950779.540\n",
       "5  REVENUE TRANSFERS               26013855.400\n",
       "6  TAXES                            1562083.800"
      ]
     },
     "execution_count": 81,
     "metadata": {},
     "output_type": "execute_result"
    }
   ],
   "source": [
    "KUrev.groupby(\"Primary_Account_Code_Descr\").Total.sum().reset_index()"
   ]
  },
  {
   "cell_type": "markdown",
   "metadata": {},
   "source": [
    "<b>Answer:</b> see the table."
   ]
  },
  {
   "cell_type": "markdown",
   "metadata": {},
   "source": [
    "### Q5: What accounts contributed to Kansas State University's biggest source of revenues?\n",
    "If you run into a situation where a filter function returns 0 results, you may want to check if there are leading and trailing spaces in the column. To clean the leading and trailing spaces, you will need to remove the hashtag, revise the names, and run the following code:"
   ]
  },
  {
   "cell_type": "code",
   "execution_count": 82,
   "metadata": {},
   "outputs": [],
   "source": [
    "KSUrev[\"Primary_Account_Code_Descr\"] = KSUrev[\"Primary_Account_Code_Descr\"].str.strip()"
   ]
  },
  {
   "cell_type": "markdown",
   "metadata": {},
   "source": [
    "After cleaning the spaces, you can start filtering your datasets to find the answer for Q5."
   ]
  },
  {
   "cell_type": "code",
   "execution_count": 91,
   "metadata": {},
   "outputs": [
    {
     "data": {
      "text/plain": [
       "Primary_Account_Code_Descr\n",
       "AGENCY EARNINGS                412565112.820\n",
       "GIFT DONATION FEDERAL GRANTS   278778848.030\n",
       "NON REVENUE RECEIPTS            71947564.050\n",
       "OTHER REVENUE                    8432030.160\n",
       "REV FROM USE OF MONEY & PROP    34139318.040\n",
       "REVENUE TRANSFERS               48458616.490\n",
       "TAXES                               3154.250\n",
       "Name: Total, dtype: float64"
      ]
     },
     "execution_count": 91,
     "metadata": {},
     "output_type": "execute_result"
    }
   ],
   "source": [
    "KSUrev.groupby(\"Primary_Account_Code_Descr\").Total.sum()"
   ]
  },
  {
   "cell_type": "markdown",
   "metadata": {},
   "source": [
    "<b>Answer:</b>"
   ]
  },
  {
   "cell_type": "markdown",
   "metadata": {},
   "source": [
    "### Q6: Where did the money go? (Answer for both universities)\n",
    "*Refer to the description [here] (http://kanview.ks.gov/Expenditures/AcctCodeExpenditures.aspx) to write your answer."
   ]
  },
  {
   "cell_type": "code",
   "execution_count": 84,
   "metadata": {},
   "outputs": [
    {
     "data": {
      "text/plain": [
       "CONTRACTUAL SERVICES              10561\n",
       "SALARIES AND WAGES                 7780\n",
       "COMMODITIES                        3740\n",
       "CAPITAL OUTLAY                     1173\n",
       "GRANTS CLAIMS SHARED REVENUE        534\n",
       "NONEXPENSE ITEMS                    129\n",
       "EXPENSE TRANSFERS                   106\n",
       "DEBT SERVICE                         71\n",
       "Name: Primary_Account_Code_Descr, dtype: int64"
      ]
     },
     "execution_count": 84,
     "metadata": {},
     "output_type": "execute_result"
    }
   ],
   "source": [
    "KSUexp.Primary_Account_Code_Descr.value_counts()"
   ]
  },
  {
   "cell_type": "code",
   "execution_count": 85,
   "metadata": {},
   "outputs": [
    {
     "data": {
      "text/plain": [
       "CONTRACTUAL SERVICES              4322\n",
       "SALARIES AND WAGES                3623\n",
       "COMMODITIES                       1605\n",
       "CAPITAL OUTLAY                     737\n",
       "NONEXPENSE ITEMS                    81\n",
       "GRANTS CLAIMS SHARED REVENUE        75\n",
       "EXPENSE TRANSFERS                   66\n",
       "DEBT SERVICE                        44\n",
       "Name: Primary_Account_Code_Descr, dtype: int64"
      ]
     },
     "execution_count": 85,
     "metadata": {},
     "output_type": "execute_result"
    }
   ],
   "source": [
    "KUexp.Primary_Account_Code_Descr.value_counts()"
   ]
  },
  {
   "cell_type": "markdown",
   "metadata": {},
   "source": [
    "<b>Answer:</b> see table above."
   ]
  },
  {
   "cell_type": "markdown",
   "metadata": {},
   "source": [
    "### Q7: What costs two universities the most? "
   ]
  },
  {
   "cell_type": "code",
   "execution_count": 86,
   "metadata": {},
   "outputs": [
    {
     "data": {
      "text/html": [
       "<div>\n",
       "<style scoped>\n",
       "    .dataframe tbody tr th:only-of-type {\n",
       "        vertical-align: middle;\n",
       "    }\n",
       "\n",
       "    .dataframe tbody tr th {\n",
       "        vertical-align: top;\n",
       "    }\n",
       "\n",
       "    .dataframe thead th {\n",
       "        text-align: right;\n",
       "    }\n",
       "</style>\n",
       "<table border=\"1\" class=\"dataframe\">\n",
       "  <thead>\n",
       "    <tr style=\"text-align: right;\">\n",
       "      <th></th>\n",
       "      <th>Primary_Account_Code_Descr</th>\n",
       "      <th>Total</th>\n",
       "    </tr>\n",
       "  </thead>\n",
       "  <tbody>\n",
       "    <tr>\n",
       "      <th>0</th>\n",
       "      <td>CAPITAL OUTLAY</td>\n",
       "      <td>64350550.130</td>\n",
       "    </tr>\n",
       "    <tr>\n",
       "      <th>1</th>\n",
       "      <td>COMMODITIES</td>\n",
       "      <td>42670908.840</td>\n",
       "    </tr>\n",
       "    <tr>\n",
       "      <th>2</th>\n",
       "      <td>CONTRACTUAL SERVICES</td>\n",
       "      <td>128541598.280</td>\n",
       "    </tr>\n",
       "    <tr>\n",
       "      <th>3</th>\n",
       "      <td>DEBT SERVICE</td>\n",
       "      <td>32442445.100</td>\n",
       "    </tr>\n",
       "    <tr>\n",
       "      <th>4</th>\n",
       "      <td>EXPENSE TRANSFERS</td>\n",
       "      <td>37130576.230</td>\n",
       "    </tr>\n",
       "    <tr>\n",
       "      <th>5</th>\n",
       "      <td>GRANTS CLAIMS SHARED REVENUE</td>\n",
       "      <td>106551248.640</td>\n",
       "    </tr>\n",
       "    <tr>\n",
       "      <th>6</th>\n",
       "      <td>NONEXPENSE ITEMS</td>\n",
       "      <td>130529992.790</td>\n",
       "    </tr>\n",
       "    <tr>\n",
       "      <th>7</th>\n",
       "      <td>SALARIES AND WAGES</td>\n",
       "      <td>476367053.010</td>\n",
       "    </tr>\n",
       "  </tbody>\n",
       "</table>\n",
       "</div>"
      ],
      "text/plain": [
       "       Primary_Account_Code_Descr         Total\n",
       "0  CAPITAL OUTLAY                  64350550.130\n",
       "1  COMMODITIES                     42670908.840\n",
       "2  CONTRACTUAL SERVICES           128541598.280\n",
       "3  DEBT SERVICE                    32442445.100\n",
       "4  EXPENSE TRANSFERS               37130576.230\n",
       "5  GRANTS CLAIMS SHARED REVENUE   106551248.640\n",
       "6  NONEXPENSE ITEMS               130529992.790\n",
       "7  SALARIES AND WAGES             476367053.010"
      ]
     },
     "execution_count": 86,
     "metadata": {},
     "output_type": "execute_result"
    }
   ],
   "source": [
    "KSUexp.groupby(\"Primary_Account_Code_Descr\").Total.sum().reset_index()"
   ]
  },
  {
   "cell_type": "code",
   "execution_count": 87,
   "metadata": {},
   "outputs": [
    {
     "data": {
      "text/html": [
       "<div>\n",
       "<style scoped>\n",
       "    .dataframe tbody tr th:only-of-type {\n",
       "        vertical-align: middle;\n",
       "    }\n",
       "\n",
       "    .dataframe tbody tr th {\n",
       "        vertical-align: top;\n",
       "    }\n",
       "\n",
       "    .dataframe thead th {\n",
       "        text-align: right;\n",
       "    }\n",
       "</style>\n",
       "<table border=\"1\" class=\"dataframe\">\n",
       "  <thead>\n",
       "    <tr style=\"text-align: right;\">\n",
       "      <th></th>\n",
       "      <th>Primary_Account_Code_Descr</th>\n",
       "      <th>Total</th>\n",
       "    </tr>\n",
       "  </thead>\n",
       "  <tbody>\n",
       "    <tr>\n",
       "      <th>0</th>\n",
       "      <td>CAPITAL OUTLAY</td>\n",
       "      <td>70676545.250</td>\n",
       "    </tr>\n",
       "    <tr>\n",
       "      <th>1</th>\n",
       "      <td>COMMODITIES</td>\n",
       "      <td>24225857.120</td>\n",
       "    </tr>\n",
       "    <tr>\n",
       "      <th>2</th>\n",
       "      <td>CONTRACTUAL SERVICES</td>\n",
       "      <td>139630507.780</td>\n",
       "    </tr>\n",
       "    <tr>\n",
       "      <th>3</th>\n",
       "      <td>DEBT SERVICE</td>\n",
       "      <td>25309742.030</td>\n",
       "    </tr>\n",
       "    <tr>\n",
       "      <th>4</th>\n",
       "      <td>EXPENSE TRANSFERS</td>\n",
       "      <td>25815417.520</td>\n",
       "    </tr>\n",
       "    <tr>\n",
       "      <th>5</th>\n",
       "      <td>GRANTS CLAIMS SHARED REVENUE</td>\n",
       "      <td>71439705.360</td>\n",
       "    </tr>\n",
       "    <tr>\n",
       "      <th>6</th>\n",
       "      <td>NONEXPENSE ITEMS</td>\n",
       "      <td>161145084.400</td>\n",
       "    </tr>\n",
       "    <tr>\n",
       "      <th>7</th>\n",
       "      <td>SALARIES AND WAGES</td>\n",
       "      <td>471996016.150</td>\n",
       "    </tr>\n",
       "  </tbody>\n",
       "</table>\n",
       "</div>"
      ],
      "text/plain": [
       "       Primary_Account_Code_Descr         Total\n",
       "0  CAPITAL OUTLAY                  70676545.250\n",
       "1  COMMODITIES                     24225857.120\n",
       "2  CONTRACTUAL SERVICES           139630507.780\n",
       "3  DEBT SERVICE                    25309742.030\n",
       "4  EXPENSE TRANSFERS               25815417.520\n",
       "5  GRANTS CLAIMS SHARED REVENUE    71439705.360\n",
       "6  NONEXPENSE ITEMS               161145084.400\n",
       "7  SALARIES AND WAGES             471996016.150"
      ]
     },
     "execution_count": 87,
     "metadata": {},
     "output_type": "execute_result"
    }
   ],
   "source": [
    "KUexp.groupby(\"Primary_Account_Code_Descr\").Total.sum().reset_index()"
   ]
  },
  {
   "cell_type": "markdown",
   "metadata": {},
   "source": [
    "<b>Answer:</b> see the tables."
   ]
  },
  {
   "cell_type": "markdown",
   "metadata": {},
   "source": [
    "### Q8: Calculate the percentage of this cost over each university's total expense."
   ]
  },
  {
   "cell_type": "code",
   "execution_count": null,
   "metadata": {},
   "outputs": [],
   "source": []
  },
  {
   "cell_type": "markdown",
   "metadata": {},
   "source": [
    "<b>Answer:</b> "
   ]
  },
  {
   "cell_type": "markdown",
   "metadata": {},
   "source": [
    "### Q9: Breakdown the cost you found in Q7 for both universities.\n",
    "Again, if you run into a situation where a filter function returns 0 results, you may want to check if there are leading and trailing spaces in the column. To clean the leading and trailing spaces, you will need to remove the hashtag, revise the names, and run the following code:"
   ]
  },
  {
   "cell_type": "code",
   "execution_count": 88,
   "metadata": {},
   "outputs": [],
   "source": [
    "KSUexp[\"Primary_Account_Code_Descr\"] = KSUexp[\"Primary_Account_Code_Descr\"].str.strip()"
   ]
  },
  {
   "cell_type": "code",
   "execution_count": 89,
   "metadata": {},
   "outputs": [],
   "source": [
    "KSUexp_breakdown = KSUexp[KSUexp.Primary_Account_Code_Descr == 'SALARIES AND WAGES']"
   ]
  },
  {
   "cell_type": "markdown",
   "metadata": {},
   "source": [
    "<b>Answer:</b>"
   ]
  },
  {
   "cell_type": "markdown",
   "metadata": {},
   "source": [
    "### Q10: Compare the breakdown costs from Q9 side by side.\n",
    "When you merge the two subsets, make sure to add the attribute <b>how =\"outer\"</b> so that you can keep every item from both sets.\n",
    "*For example: merge = pd.merge(df1, df2, how=\"outer\", on=\"columnname\")"
   ]
  },
  {
   "cell_type": "code",
   "execution_count": null,
   "metadata": {},
   "outputs": [],
   "source": [
    "merged"
   ]
  },
  {
   "cell_type": "markdown",
   "metadata": {},
   "source": [
    "<b>Answer:</b>"
   ]
  },
  {
   "cell_type": "markdown",
   "metadata": {},
   "source": [
    "## III. BONUS QUESTIONS\n",
    "* Each question's worth 15 points.\n"
   ]
  },
  {
   "cell_type": "markdown",
   "metadata": {},
   "source": [
    "### B1: Which university made a profit in the fiscal year of 2018?"
   ]
  },
  {
   "cell_type": "code",
   "execution_count": 29,
   "metadata": {},
   "outputs": [
    {
     "data": {
      "text/plain": [
       "854324643.84"
      ]
     },
     "execution_count": 29,
     "metadata": {},
     "output_type": "execute_result"
    }
   ],
   "source": [
    "KSUrev.Total.sum()"
   ]
  },
  {
   "cell_type": "code",
   "execution_count": 30,
   "metadata": {},
   "outputs": [
    {
     "data": {
      "text/plain": [
       "1018584373.02"
      ]
     },
     "execution_count": 30,
     "metadata": {},
     "output_type": "execute_result"
    }
   ],
   "source": [
    "KSUexp.Total.sum()"
   ]
  },
  {
   "cell_type": "code",
   "execution_count": 31,
   "metadata": {},
   "outputs": [
    {
     "data": {
      "text/plain": [
       "-164259729.17999995"
      ]
     },
     "execution_count": 31,
     "metadata": {},
     "output_type": "execute_result"
    }
   ],
   "source": [
    "854324643.84 - 1018584373.02"
   ]
  },
  {
   "cell_type": "code",
   "execution_count": 32,
   "metadata": {},
   "outputs": [
    {
     "data": {
      "text/plain": [
       "808767902.55"
      ]
     },
     "execution_count": 32,
     "metadata": {},
     "output_type": "execute_result"
    }
   ],
   "source": [
    "KUrev.Total.sum()"
   ]
  },
  {
   "cell_type": "code",
   "execution_count": 33,
   "metadata": {},
   "outputs": [
    {
     "data": {
      "text/plain": [
       "990238875.6099999"
      ]
     },
     "execution_count": 33,
     "metadata": {},
     "output_type": "execute_result"
    }
   ],
   "source": [
    "KUexp.Total.sum()"
   ]
  },
  {
   "cell_type": "code",
   "execution_count": 34,
   "metadata": {},
   "outputs": [
    {
     "data": {
      "text/plain": [
       "-181470973.05999994"
      ]
     },
     "execution_count": 34,
     "metadata": {},
     "output_type": "execute_result"
    }
   ],
   "source": [
    "808767902.55 - 990238875.6099999"
   ]
  },
  {
   "cell_type": "markdown",
   "metadata": {},
   "source": [
    "<b>Answer:</b> Neither of the universities made a profit in the 2018 fiscal year."
   ]
  },
  {
   "cell_type": "markdown",
   "metadata": {},
   "source": [
    "### B2: Which software program do you like the most in this course? Why?"
   ]
  },
  {
   "cell_type": "markdown",
   "metadata": {},
   "source": [
    "<b>Answer:</b>  I loved Tablaeu because after a while you get the hang of it and understand but its also the easiest. I think Python is useful and I like it once I understand how to use it well enough."
   ]
  },
  {
   "cell_type": "markdown",
   "metadata": {},
   "source": [
    "### END OF THE TEST"
   ]
  }
 ],
 "metadata": {
  "kernelspec": {
   "display_name": "Python 2",
   "language": "python",
   "name": "python2"
  },
  "language_info": {
   "codemirror_mode": {
    "name": "ipython",
    "version": 2
   },
   "file_extension": ".py",
   "mimetype": "text/x-python",
   "name": "python",
   "nbconvert_exporter": "python",
   "pygments_lexer": "ipython2",
   "version": "2.7.10"
  }
 },
 "nbformat": 4,
 "nbformat_minor": 2
}
